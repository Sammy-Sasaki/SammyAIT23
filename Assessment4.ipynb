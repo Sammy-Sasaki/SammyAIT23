{
  "nbformat": 4,
  "nbformat_minor": 0,
  "metadata": {
    "anaconda-cloud": {},
    "kernelspec": {
      "display_name": "Python 3",
      "language": "python",
      "name": "python3"
    },
    "language_info": {
      "codemirror_mode": {
        "name": "ipython",
        "version": 3
      },
      "file_extension": ".py",
      "mimetype": "text/x-python",
      "name": "python",
      "nbconvert_exporter": "python",
      "pygments_lexer": "ipython3",
      "version": "3.6.6"
    },
    "colab": {
      "provenance": [],
      "include_colab_link": true
    },
    "accelerator": "GPU"
  },
  "cells": [
    {
      "cell_type": "markdown",
      "metadata": {
        "id": "view-in-github",
        "colab_type": "text"
      },
      "source": [
        "<a href=\"https://colab.research.google.com/github/Sammy-Sasaki/SammyAIT23/blob/main/Assessment4.ipynb\" target=\"_parent\"><img src=\"https://colab.research.google.com/assets/colab-badge.svg\" alt=\"Open In Colab\"/></a>"
      ]
    },
    {
      "cell_type": "markdown",
      "metadata": {
        "id": "cW-EyI5Lxpqi"
      },
      "source": [
        "# Copyright\n",
        "\n",
        "<PRE>\n",
        "Copyright (c) 2023 Bálint Gyires-Tóth - All Rights Reserved\n",
        "You may use and modify this code for research and development purpuses.\n",
        "Using this code for educational purposes (self-paced or instructor led) without the permission of the author is prohibited.\n",
        "</PRE>"
      ]
    },
    {
      "cell_type": "markdown",
      "source": [
        "# Convolutional Neural Network exercise\n",
        "\n",
        "In this notebook, you will build a convolutional neural network, which offers superior results over the previous MLP solution. Additionally, you will perform a more detailed evaluation.  "
      ],
      "metadata": {
        "id": "3EX4cCa4WKJu"
      }
    },
    {
      "cell_type": "code",
      "source": [
        "# imports \n",
        "from tensorflow.keras.datasets import cifar10\n",
        "from tensorflow.keras.utils import to_categorical\n",
        "import numpy as np\n",
        "import matplotlib.pyplot as plt\n",
        "from tensorflow.keras.models import Sequential\n",
        "from tensorflow.keras.layers import Dense, Conv2D, MaxPool2D, Flatten, Dropout, BatchNormalization\n",
        "from tensorflow.keras.initializers import HeNormal\n",
        "from tensorflow.keras.callbacks import EarlyStopping"
      ],
      "metadata": {
        "id": "GdCMhy4HA2qd"
      },
      "execution_count": 1,
      "outputs": []
    },
    {
      "cell_type": "markdown",
      "source": [
        "# 1. Data\n",
        "The dataset we will use is the well-known CIFAR10 (Canadian Institute For Advanced Research). Explore the details on the Keras website first: https://keras.io/api/datasets/cifar10/\n",
        "\n",
        "There isn't much difference between the data preprocessing part and the one we did before. The only difference is that we don't have to reshape images into vectors, but we are working with a 4 dimensional data structure, where the dimensions are: batch, X, Y, and color channels. \n",
        "\n",
        "In the event that anything is not clear regarding the data preparation part, please check the previous CIFAR10 notebook."
      ],
      "metadata": {
        "id": "yY9fztIeWIKt"
      }
    },
    {
      "cell_type": "code",
      "source": [
        "(X_train, Y_train), (X_test, Y_test) = cifar10.load_data()"
      ],
      "metadata": {
        "id": "bez7q0eiWQCK",
        "colab": {
          "base_uri": "https://localhost:8080/"
        },
        "outputId": "4b7df5f8-7f66-45fd-c308-6c4ddd8730ce"
      },
      "execution_count": 2,
      "outputs": [
        {
          "output_type": "stream",
          "name": "stdout",
          "text": [
            "Downloading data from https://www.cs.toronto.edu/~kriz/cifar-10-python.tar.gz\n",
            "170498071/170498071 [==============================] - 6s 0us/step\n"
          ]
        }
      ]
    },
    {
      "cell_type": "code",
      "source": [
        "# it is in int8 format, the neural network requires float32\n",
        "X_train = X_train.astype(\"float32\")\n",
        "X_test = X_test.astype(\"float32\")"
      ],
      "metadata": {
        "id": "vukOcBM0XzSj"
      },
      "execution_count": 3,
      "outputs": []
    },
    {
      "cell_type": "code",
      "source": [
        "train_ratio  = 0.8\n",
        "train_length = X_train.shape[0]\n",
        "train_split  = int(train_ratio*train_length)\n",
        "X_valid, Y_valid = X_train[train_split:], Y_train[train_split:]\n",
        "X_train, Y_train = X_train[:train_split], Y_train[:train_split]"
      ],
      "metadata": {
        "id": "mRwuWxxIxLgN"
      },
      "execution_count": 4,
      "outputs": []
    },
    {
      "cell_type": "code",
      "source": [
        "mean = X_train.mean(axis=0)\n",
        "std  = X_train.std(axis=0)\n",
        "\n",
        "X_train = (X_train-mean)/std\n",
        "X_valid = (X_valid-mean)/std\n",
        "X_test  = (X_test-mean)/std"
      ],
      "metadata": {
        "id": "2ESLP1EIyB2J"
      },
      "execution_count": 5,
      "outputs": []
    },
    {
      "cell_type": "code",
      "source": [
        "nb_classes = len(np.unique(Y_train))\n",
        "Y_train = to_categorical(Y_train, nb_classes)\n",
        "Y_valid = to_categorical(Y_valid, nb_classes)\n",
        "Y_test  = to_categorical(Y_test, nb_classes)"
      ],
      "metadata": {
        "id": "xwZ4OJ6I8lba"
      },
      "execution_count": 6,
      "outputs": []
    },
    {
      "cell_type": "code",
      "source": [
        "print(\"Shapes of the training, validation and test input data:\", X_train.shape, X_valid.shape, X_test.shape)\n",
        "print(\"Shapes of the training, validation and test output data:\", Y_train.shape, Y_valid.shape, Y_test.shape)\n",
        "print(\"Mean values of the training, validation and test input data:\", X_train.mean(), X_valid.mean(), X_test.mean())\n",
        "print(\"Standard deviation of the training, validation and test input data:\", X_train.std(), X_valid.std(), X_test.std())"
      ],
      "metadata": {
        "id": "O_jdJVcvX0vi",
        "colab": {
          "base_uri": "https://localhost:8080/"
        },
        "outputId": "74a3b13a-e7d2-4e28-aed6-40961907f8b2"
      },
      "execution_count": 7,
      "outputs": [
        {
          "output_type": "stream",
          "name": "stdout",
          "text": [
            "Shapes of the training, validation and test input data: (40000, 32, 32, 3) (10000, 32, 32, 3) (10000, 32, 32, 3)\n",
            "Shapes of the training, validation and test output data: (40000, 10) (10000, 10) (10000, 10)\n",
            "Mean values of the training, validation and test input data: 2.2788842e-09 0.0023437198 0.013331206\n",
            "Standard deviation of the training, validation and test input data: 1.0000023 0.9965626 0.99783075\n"
          ]
        }
      ]
    },
    {
      "cell_type": "markdown",
      "metadata": {
        "id": "cJ14oyZExpqj"
      },
      "source": [
        "# 2. Exercise: training"
      ]
    },
    {
      "cell_type": "markdown",
      "source": [
        "Create and train a convolutional neural network with the following requirements:\n",
        "* apply early stopping with patience=5 and monitor the validation accuracy, don't forget to load back the best weights after early stopping\n",
        "* the number of trainable parameters is lower than 200.000\n",
        "* the validation accuracy must be higher than 72%\n",
        "\n",
        "Hints:\n",
        "* you can always inspect the number of trainable parameters per layer with model.summary()\n",
        "* usually the most trainable parameters are between the last convolutional layer and the next dense layer -- so you should have a reasonable output size at the last convolutional layer\n",
        "* regularization helps (e.g. DropOut and/or BatchNormalization)\n",
        "* use the right activation function at the output layer and the corresponding loss function\n",
        "* for the chosen activation functions, please use the appropriate initialization method\n",
        "* you can match the dimension of the last conv/pooling layer to the next dense layer with e.g. Flatten()\n",
        "* ADAM optimizer is a reasonable choice \n",
        "* don't forget to turn on GPU support in Colab, otherwise, it would be quite slow to train the networks\n",
        "\n"
      ],
      "metadata": {
        "id": "j1tGVPdD-pp3"
      }
    },
    {
      "cell_type": "code",
      "source": [
        "es = EarlyStopping(\n",
        "    monitor='val_accuracy',\n",
        "    min_delta=0,\n",
        "    patience=5,\n",
        "    verbose=0,\n",
        "    mode='auto',\n",
        "    baseline=None,\n",
        "    restore_best_weights=True,\n",
        "    start_from_epoch=0\n",
        ") # early stopping"
      ],
      "metadata": {
        "id": "5dBQxJHIHrbd"
      },
      "execution_count": 8,
      "outputs": []
    },
    {
      "cell_type": "code",
      "source": [
        "# model definition\n",
        "model = Sequential()\n",
        "model.add(Conv2D(32, (3, 3), activation='relu', input_shape=(32, 32, 3)))\n",
        "model.add(MaxPool2D((2, 2)))\n",
        "model.add(Dropout(0.4, input_shape=(32,32,3)))\n",
        "model.add(BatchNormalization())\n",
        "model.add(Conv2D(64, (3, 3), activation='relu'))\n",
        "model.add(MaxPool2D((2, 2)))\n",
        "model.add(Conv2D(64, (3, 3), activation='relu'))\n",
        "model.add(Flatten())\n",
        "model.add(Dense(10, activation=\"sigmoid\"))\n",
        "\n",
        "# loss function and optimizer\n",
        "model.compile(loss='categorical_crossentropy', optimizer='adam', metrics=['accuracy'])"
      ],
      "metadata": {
        "id": "PuxHOqLt-3Nd"
      },
      "execution_count": 19,
      "outputs": []
    },
    {
      "cell_type": "code",
      "source": [
        "model.summary()"
      ],
      "metadata": {
        "id": "5eomQw8uE9Ix",
        "colab": {
          "base_uri": "https://localhost:8080/"
        },
        "outputId": "8e2402bc-5e63-4141-9f7d-1b1121e1974b"
      },
      "execution_count": 20,
      "outputs": [
        {
          "output_type": "stream",
          "name": "stdout",
          "text": [
            "Model: \"sequential_4\"\n",
            "_________________________________________________________________\n",
            " Layer (type)                Output Shape              Param #   \n",
            "=================================================================\n",
            " conv2d_12 (Conv2D)          (None, 30, 30, 32)        896       \n",
            "                                                                 \n",
            " max_pooling2d_8 (MaxPooling  (None, 15, 15, 32)       0         \n",
            " 2D)                                                             \n",
            "                                                                 \n",
            " dropout_4 (Dropout)         (None, 15, 15, 32)        0         \n",
            "                                                                 \n",
            " batch_normalization_4 (Batc  (None, 15, 15, 32)       128       \n",
            " hNormalization)                                                 \n",
            "                                                                 \n",
            " conv2d_13 (Conv2D)          (None, 13, 13, 64)        18496     \n",
            "                                                                 \n",
            " max_pooling2d_9 (MaxPooling  (None, 6, 6, 64)         0         \n",
            " 2D)                                                             \n",
            "                                                                 \n",
            " conv2d_14 (Conv2D)          (None, 4, 4, 64)          36928     \n",
            "                                                                 \n",
            " flatten_4 (Flatten)         (None, 1024)              0         \n",
            "                                                                 \n",
            " dense_4 (Dense)             (None, 10)                10250     \n",
            "                                                                 \n",
            "=================================================================\n",
            "Total params: 66,698\n",
            "Trainable params: 66,634\n",
            "Non-trainable params: 64\n",
            "_________________________________________________________________\n"
          ]
        }
      ]
    },
    {
      "cell_type": "markdown",
      "source": [
        "Please, check the number of trainable paramers:"
      ],
      "metadata": {
        "id": "8tIbIIeTEI41"
      }
    },
    {
      "cell_type": "code",
      "source": [
        "print(\"#trainable parameters:\",model.count_params())"
      ],
      "metadata": {
        "id": "xdBAG7EJETlX",
        "colab": {
          "base_uri": "https://localhost:8080/"
        },
        "outputId": "d25a4901-0b56-48f8-9815-675b16269957"
      },
      "execution_count": 21,
      "outputs": [
        {
          "output_type": "stream",
          "name": "stdout",
          "text": [
            "#trainable parameters: 66698\n"
          ]
        }
      ]
    },
    {
      "cell_type": "code",
      "source": [
        "# training\n",
        "network_history = model.fit(X_train, Y_train, \n",
        "                            validation_data=(X_valid,Y_valid),\n",
        "                            batch_size=128,                             \n",
        "                            epochs=50, \n",
        "                            verbose=1, \n",
        "                            callbacks=[es])"
      ],
      "metadata": {
        "id": "u8tFNCNVHyt9",
        "colab": {
          "base_uri": "https://localhost:8080/"
        },
        "outputId": "35552177-731b-4962-a8bb-91a5d08ec8ef"
      },
      "execution_count": 22,
      "outputs": [
        {
          "output_type": "stream",
          "name": "stdout",
          "text": [
            "Epoch 1/50\n",
            "313/313 [==============================] - 5s 10ms/step - loss: 1.6131 - accuracy: 0.4136 - val_loss: 1.4285 - val_accuracy: 0.5131\n",
            "Epoch 2/50\n",
            "313/313 [==============================] - 3s 8ms/step - loss: 1.2922 - accuracy: 0.5363 - val_loss: 1.1844 - val_accuracy: 0.5799\n",
            "Epoch 3/50\n",
            "313/313 [==============================] - 3s 8ms/step - loss: 1.1620 - accuracy: 0.5870 - val_loss: 1.1000 - val_accuracy: 0.6128\n",
            "Epoch 4/50\n",
            "313/313 [==============================] - 2s 8ms/step - loss: 1.0779 - accuracy: 0.6183 - val_loss: 1.0123 - val_accuracy: 0.6416\n",
            "Epoch 5/50\n",
            "313/313 [==============================] - 3s 11ms/step - loss: 1.0195 - accuracy: 0.6398 - val_loss: 0.9605 - val_accuracy: 0.6599\n",
            "Epoch 6/50\n",
            "313/313 [==============================] - 2s 8ms/step - loss: 0.9673 - accuracy: 0.6610 - val_loss: 0.9502 - val_accuracy: 0.6637\n",
            "Epoch 7/50\n",
            "313/313 [==============================] - 3s 9ms/step - loss: 0.9180 - accuracy: 0.6775 - val_loss: 0.9306 - val_accuracy: 0.6737\n",
            "Epoch 8/50\n",
            "313/313 [==============================] - 3s 8ms/step - loss: 0.8924 - accuracy: 0.6871 - val_loss: 0.8896 - val_accuracy: 0.6899\n",
            "Epoch 9/50\n",
            "313/313 [==============================] - 2s 8ms/step - loss: 0.8632 - accuracy: 0.6993 - val_loss: 0.8803 - val_accuracy: 0.6923\n",
            "Epoch 10/50\n",
            "313/313 [==============================] - 2s 8ms/step - loss: 0.8342 - accuracy: 0.7079 - val_loss: 0.8618 - val_accuracy: 0.6950\n",
            "Epoch 11/50\n",
            "313/313 [==============================] - 3s 8ms/step - loss: 0.8194 - accuracy: 0.7133 - val_loss: 0.8401 - val_accuracy: 0.7013\n",
            "Epoch 12/50\n",
            "313/313 [==============================] - 3s 9ms/step - loss: 0.8010 - accuracy: 0.7180 - val_loss: 0.8528 - val_accuracy: 0.7023\n",
            "Epoch 13/50\n",
            "313/313 [==============================] - 2s 8ms/step - loss: 0.7735 - accuracy: 0.7288 - val_loss: 0.8628 - val_accuracy: 0.6945\n",
            "Epoch 14/50\n",
            "313/313 [==============================] - 2s 8ms/step - loss: 0.7647 - accuracy: 0.7315 - val_loss: 0.8306 - val_accuracy: 0.7150\n",
            "Epoch 15/50\n",
            "313/313 [==============================] - 2s 8ms/step - loss: 0.7424 - accuracy: 0.7387 - val_loss: 0.7848 - val_accuracy: 0.7271\n",
            "Epoch 16/50\n",
            "313/313 [==============================] - 3s 9ms/step - loss: 0.7282 - accuracy: 0.7431 - val_loss: 0.7974 - val_accuracy: 0.7189\n",
            "Epoch 17/50\n",
            "313/313 [==============================] - 3s 8ms/step - loss: 0.7090 - accuracy: 0.7520 - val_loss: 0.7930 - val_accuracy: 0.7262\n",
            "Epoch 18/50\n",
            "313/313 [==============================] - 2s 8ms/step - loss: 0.6973 - accuracy: 0.7545 - val_loss: 0.8021 - val_accuracy: 0.7218\n",
            "Epoch 19/50\n",
            "313/313 [==============================] - 2s 7ms/step - loss: 0.6903 - accuracy: 0.7564 - val_loss: 0.7912 - val_accuracy: 0.7251\n",
            "Epoch 20/50\n",
            "313/313 [==============================] - 2s 8ms/step - loss: 0.6729 - accuracy: 0.7652 - val_loss: 0.7743 - val_accuracy: 0.7352\n",
            "Epoch 21/50\n",
            "313/313 [==============================] - 3s 8ms/step - loss: 0.6606 - accuracy: 0.7694 - val_loss: 0.7884 - val_accuracy: 0.7317\n",
            "Epoch 22/50\n",
            "313/313 [==============================] - 3s 8ms/step - loss: 0.6460 - accuracy: 0.7717 - val_loss: 0.8082 - val_accuracy: 0.7269\n",
            "Epoch 23/50\n",
            "313/313 [==============================] - 2s 8ms/step - loss: 0.6394 - accuracy: 0.7776 - val_loss: 0.7734 - val_accuracy: 0.7361\n",
            "Epoch 24/50\n",
            "313/313 [==============================] - 2s 8ms/step - loss: 0.6222 - accuracy: 0.7817 - val_loss: 0.8039 - val_accuracy: 0.7257\n",
            "Epoch 25/50\n",
            "313/313 [==============================] - 2s 8ms/step - loss: 0.6165 - accuracy: 0.7832 - val_loss: 0.7785 - val_accuracy: 0.7347\n",
            "Epoch 26/50\n",
            "313/313 [==============================] - 3s 8ms/step - loss: 0.6025 - accuracy: 0.7879 - val_loss: 0.7631 - val_accuracy: 0.7404\n",
            "Epoch 27/50\n",
            "313/313 [==============================] - 3s 8ms/step - loss: 0.5987 - accuracy: 0.7885 - val_loss: 0.7859 - val_accuracy: 0.7381\n",
            "Epoch 28/50\n",
            "313/313 [==============================] - 2s 8ms/step - loss: 0.5904 - accuracy: 0.7923 - val_loss: 0.8002 - val_accuracy: 0.7265\n",
            "Epoch 29/50\n",
            "313/313 [==============================] - 2s 8ms/step - loss: 0.5775 - accuracy: 0.7977 - val_loss: 0.7771 - val_accuracy: 0.7379\n",
            "Epoch 30/50\n",
            "313/313 [==============================] - 2s 8ms/step - loss: 0.5687 - accuracy: 0.7990 - val_loss: 0.7902 - val_accuracy: 0.7350\n",
            "Epoch 31/50\n",
            "313/313 [==============================] - 3s 10ms/step - loss: 0.5643 - accuracy: 0.8018 - val_loss: 0.8015 - val_accuracy: 0.7323\n"
          ]
        }
      ]
    },
    {
      "cell_type": "markdown",
      "source": [
        "# 3. Exercise: evaluation on test data\n",
        "You will evaluate the classification of the test data using the common metrics and the confusion matrix in this section. \n",
        "\n",
        "\n",
        "As a first stes, let's run the predictions and convert the predicted softmax outputs to dense labels. The one-hot encoded labels are also converted back to dense labels, as they are required for the evaluation functions."
      ],
      "metadata": {
        "id": "2FtKp-a2-A9m"
      }
    },
    {
      "cell_type": "code",
      "source": [
        "probas = model.predict(X_test)\n",
        "preds  = np.argmax(probas,axis=1)\n",
        "Y_test_dense = np.argmax(Y_test, axis=1) # get the original dense labels of the test data"
      ],
      "metadata": {
        "id": "EcWAqwlDMq3y",
        "colab": {
          "base_uri": "https://localhost:8080/"
        },
        "outputId": "8f3cd85b-1f9a-438a-efc5-73bfde772c2b"
      },
      "execution_count": 23,
      "outputs": [
        {
          "output_type": "stream",
          "name": "stdout",
          "text": [
            "313/313 [==============================] - 1s 2ms/step\n"
          ]
        }
      ]
    },
    {
      "cell_type": "markdown",
      "source": [
        "## 3.1. Exercise: Metrics\n",
        "please review the common classification metrics (accuracy, precision, recall, F1) for the complete model (not per class). \n",
        "\n",
        "Hints:\n",
        "* use macro averaging\n",
        "* you have to import the right functions from [sklearn.metrics](https://scikit-learn.org/stable/modules/model_evaluation.html)\n"
      ],
      "metadata": {
        "id": "RWJ-PH_iMs9K"
      }
    },
    {
      "cell_type": "code",
      "source": [
        "from sklearn.metrics import accuracy_score, precision_score, recall_score, f1_score"
      ],
      "metadata": {
        "id": "5sKm5zHSMZ_x"
      },
      "execution_count": 24,
      "outputs": []
    },
    {
      "cell_type": "code",
      "source": [
        "print(\"Accuracy:\",accuracy_score(Y_test_dense, preds))\n",
        "print(\"Precision:\",precision_score(Y_test_dense, preds, average=\"macro\"))\n",
        "print(\"Recall:\",recall_score(Y_test_dense, preds, average=\"macro\"))\n",
        "print(\"F1:\",f1_score(Y_test_dense, preds, average=\"macro\"))"
      ],
      "metadata": {
        "id": "I3_9wgDREUna",
        "colab": {
          "base_uri": "https://localhost:8080/"
        },
        "outputId": "ca82be6e-bbf7-4df2-e1fe-989b8bd62fb0"
      },
      "execution_count": 29,
      "outputs": [
        {
          "output_type": "stream",
          "name": "stdout",
          "text": [
            "Accuracy: 0.7344\n",
            "Precision: 0.7332075066496763\n",
            "Recall: 0.7343999999999999\n",
            "F1: 0.7329924948961258\n"
          ]
        }
      ]
    },
    {
      "cell_type": "markdown",
      "source": [
        "\n",
        "## 3.2. Exercise: Confusion matrix\n",
        "Calculate the confusion matrix and display the results in a heatmap (with decimal values).\n",
        "\n",
        "Hints:\n",
        "* you have to do the imports this time too, e.g. from [sklearn.metrics](https://scikit-learn.org/stable/modules/model_evaluation.html) and the [heatmap function](https://seaborn.pydata.org/generated/seaborn.heatmap.html) of [seaborn](https://seaborn.pydata.org/)\n",
        "* for displaying the decimal values, you have to turn annot=True and define fmt='d' in the heatmap function of seaborn"
      ],
      "metadata": {
        "id": "ECHguBFtGL7f"
      }
    },
    {
      "cell_type": "code",
      "source": [
        "from sklearn.metrics import confusion_matrix\n",
        "import seaborn as sns"
      ],
      "metadata": {
        "id": "SIi2VzMBO3yD"
      },
      "execution_count": 30,
      "outputs": []
    },
    {
      "cell_type": "code",
      "metadata": {
        "id": "cdqODx92Svw7",
        "colab": {
          "base_uri": "https://localhost:8080/",
          "height": 396
        },
        "outputId": "afd33ad1-0a81-4ad9-86d6-38ce14616436"
      },
      "source": [
        "conf = confusion_matrix(Y_test_dense, preds)\n",
        "plt.figure(figsize=(7,6))\n",
        "sns.heatmap(conf, fmt='d', annot=True, vmin=1, vmax=200)"
      ],
      "execution_count": 31,
      "outputs": [
        {
          "output_type": "execute_result",
          "data": {
            "text/plain": [
              "<Axes: >"
            ]
          },
          "metadata": {},
          "execution_count": 31
        },
        {
          "output_type": "display_data",
          "data": {
            "text/plain": [
              "<Figure size 504x432 with 2 Axes>"
            ],
            "image/png": "[encoded data removed]"
          },
          "metadata": {
            "needs_background": "light"
          }
        }
      ]
    }
  ]
}