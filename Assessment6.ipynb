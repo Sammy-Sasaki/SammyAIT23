{
  "cells": [
    {
      "cell_type": "markdown",
      "metadata": {
        "id": "view-in-github",
        "colab_type": "text"
      },
      "source": [
        "<a href=\"https://colab.research.google.com/github/Sammy-Sasaki/SammyAIT23/blob/main/Assessment6.ipynb\" target=\"_parent\"><img src=\"https://colab.research.google.com/assets/colab-badge.svg\" alt=\"Open In Colab\"/></a>"
      ]
    },
    {
      "cell_type": "markdown",
      "metadata": {
        "id": "_jiGtJu6u9ml"
      },
      "source": [
        "# Copyright\n",
        "\n",
        "<PRE>\n",
        "Copyright (c) 2023 Bálint Gyires-Tóth - All Rights Reserved\n",
        "You may use and modify this code for research and development purpuses.\n",
        "Use this code for educational purposes (self-paced or instructor led) without the permission of the author is prohibited.\n",
        "</PRE>"
      ]
    },
    {
      "cell_type": "markdown",
      "metadata": {
        "id": "oXyFC44jV-PP"
      },
      "source": [
        "# Author classification\n",
        "The task is to train a 1D CNN or an LSTM that is able to  classify text from two authors. The final model should be able to tell about a text with a given length (e.g. 60 characters) who wrote it. \n",
        "\n",
        "Please write the codes according to the following parts:"
      ]
    },
    {
      "cell_type": "markdown",
      "metadata": {
        "id": "jCnLoeGrHXsp"
      },
      "source": [
        "## Python module imports\n",
        "Import all Python modules that you would need during the Assignment."
      ]
    },
    {
      "cell_type": "code",
      "execution_count": 1,
      "metadata": {
        "id": "7itbFGt3HXVT"
      },
      "outputs": [],
      "source": [
        "from tensorflow.keras.models import Sequential\n",
        "from tensorflow.keras.layers import Dense, Activation, Dropout\n",
        "from tensorflow.keras.layers import LSTM\n",
        "from tensorflow.keras.optimizers import RMSprop\n",
        "from tensorflow.keras.callbacks import EarlyStopping\n",
        "from urllib.request import urlretrieve\n",
        "import numpy as np\n",
        "import random\n",
        "import sys\n",
        "import re, cgi\n",
        "import seaborn as sns\n",
        "import matplotlib.pyplot as plt\n",
        "from sklearn.metrics import confusion_matrix"
      ]
    },
    {
      "cell_type": "markdown",
      "metadata": {
        "id": "Hr617tEpHd8R"
      },
      "source": [
        "## Data acquisition\n",
        "Seek a possible dataset, you can use any source, e.g.\n",
        "* http://www.gutenberg.org/\n",
        "* https://www.kaggle.com/datasets\n",
        "* https://paperswithcode.com/datasets\n",
        "* if you would like to learn Hungarian, than e.g. https://mek.oszk.hu/\n",
        "\n",
        "You can download the text by hand (e.g. by copy-pasting some parts into txt files) or with Python. "
      ]
    },
    {
      "cell_type": "code",
      "execution_count": 2,
      "metadata": {
        "id": "NgkdQxHqHdZB"
      },
      "outputs": [],
      "source": [
        "# Great Gatsby\n",
        "url_book=\"https://www.gutenberg.org/files/64317/64317-0.txt\"\n",
        "urlretrieve(url_book, 'book.txt')\n",
        "text = open(\"book.txt\", encoding='utf-8').read().lower()\n",
        "\n",
        "# A Room With a View\n",
        "url_book2=\"https://www.gutenberg.org/files/11/11-0.txt\"\n",
        "urlretrieve(url_book2, 'book2.txt')\n",
        "text2 = open(\"book2.txt\", encoding='utf-8').read().lower()"
      ]
    },
    {
      "cell_type": "markdown",
      "metadata": {
        "id": "U9Pmq91t3SRD"
      },
      "source": [
        "## Data analysis\n",
        "Count the number of characters from both authors and display them on a plot (e.g. Seaborn's countplot)."
      ]
    },
    {
      "cell_type": "code",
      "execution_count": 3,
      "metadata": {
        "colab": {
          "base_uri": "https://localhost:8080/",
          "height": 540
        },
        "id": "uRqGdn4F3Spk",
        "outputId": "c168279d-8d76-4cf3-9660-1a801e13c59d"
      },
      "outputs": [
        {
          "output_type": "display_data",
          "data": {
            "text/plain": [
              "<Figure size 640x480 with 1 Axes>"
            ],
            "image/png": "[encoded data removed]"
          },
          "metadata": {}
        }
      ],
      "source": [
        "count1 = len(text)\n",
        "count2 = len(text2)\n",
        "fig = plt.figure()\n",
        "ax = fig.add_axes([0,0,1,1])\n",
        "authors = [\"Fitzgerald\", \"Forster\"]\n",
        "counts = [count1, count2]\n",
        "ax.bar(authors,counts)\n",
        "plt.show()"
      ]
    },
    {
      "cell_type": "markdown",
      "metadata": {
        "id": "cHyE_ndGIblJ"
      },
      "source": [
        "## Data loading, labeling and preprocessing\n",
        "Load the data and convert the characters into one-hot encodings. Then load the data into a 3D NumPy array, with a shape of\n",
        "\n",
        "* (batch, sequence_length, alphabet_length)\n",
        "\n",
        "where sequence_length=60, and alphabet_length equals to the number of unique characters in both datasets. The sequences should be cut out from the complete dataset by sliding window. You should add 0 and 1 labels to the sequences, according to the author. \n",
        "\n",
        "Later you may change sequence_length to achieve better results!"
      ]
    },
    {
      "cell_type": "code",
      "execution_count": 4,
      "metadata": {
        "id": "arooXt0WIb6x"
      },
      "outputs": [],
      "source": [
        "sequence_length = 80\n",
        "step = 10\n",
        "chars = sorted(list(set(text + text2)))\n",
        "alphabet_length = len(chars)\n",
        "char_indices = dict((c, i) for i, c in enumerate(chars))\n",
        "indices_char = dict((i, c) for i, c in enumerate(chars))"
      ]
    },
    {
      "cell_type": "code",
      "execution_count": 5,
      "metadata": {
        "id": "iBIW1eSyXLJR"
      },
      "outputs": [],
      "source": [
        "sequences1 = []\n",
        "sequences2 = []\n",
        "for i in range(0, len(text)-sequence_length, step):\n",
        "    sequences1.append(text[i:i + sequence_length])\n",
        "for i in range(0, len(text2) - sequence_length, step):\n",
        "    sequences2.append(text2[i:i + sequence_length])"
      ]
    },
    {
      "cell_type": "code",
      "execution_count": 6,
      "metadata": {
        "colab": {
          "base_uri": "https://localhost:8080/"
        },
        "id": "wBe_kV3uWquO",
        "outputId": "628b2953-8136-4ae0-b52f-b096c151d5a3"
      },
      "outputs": [
        {
          "output_type": "stream",
          "name": "stdout",
          "text": [
            "28986\n"
          ]
        }
      ],
      "source": [
        "print(len(sequences1))"
      ]
    },
    {
      "cell_type": "code",
      "execution_count": 7,
      "metadata": {
        "id": "tslAWNv9YkUO"
      },
      "outputs": [],
      "source": [
        "X1 = np.zeros((len(sequences1), sequence_length, alphabet_length))\n",
        "Y1 = np.zeros((len(sequences1), 2))\n",
        "X2 = np.zeros((len(sequences2), sequence_length, alphabet_length))\n",
        "Y2 = np.zeros((len(sequences2), 2))"
      ]
    },
    {
      "cell_type": "code",
      "execution_count": 8,
      "metadata": {
        "colab": {
          "base_uri": "https://localhost:8080/"
        },
        "id": "u-S77MVa2mhl",
        "outputId": "b209cfdd-6370-4f71-e260-d33c718135b1"
      },
      "outputs": [
        {
          "output_type": "stream",
          "name": "stdout",
          "text": [
            "(28986, 80, 71) (16397, 80, 71)\n"
          ]
        }
      ],
      "source": [
        "print(X1.shape, X2.shape)"
      ]
    },
    {
      "cell_type": "code",
      "execution_count": 9,
      "metadata": {
        "id": "tMuryn69v9wD"
      },
      "outputs": [],
      "source": [
        "for i, sequence in enumerate(sequences1):\n",
        "    for t, char in enumerate(sequence): \n",
        "        X1[i,t,char_indices[char]] = 1\n",
        "    Y1[i][0] = 1\n",
        "\n",
        "for i, sequence in enumerate(sequences2):\n",
        "    for t, char in enumerate(sequence): \n",
        "        X2[i,t,char_indices[char]] = 1\n",
        "    Y2[i][1] = 1"
      ]
    },
    {
      "cell_type": "markdown",
      "metadata": {
        "id": "lL1Mc8ibHnep"
      },
      "source": [
        "## Data splitting\n",
        "Split the data into train, validate and test sets. Make "
      ]
    },
    {
      "cell_type": "code",
      "execution_count": 10,
      "metadata": {
        "id": "ELyG9XFUHrkB"
      },
      "outputs": [],
      "source": [
        "valid_point = int(0.7*len(X1))\n",
        "test_point = int(0.9*len(X1))\n",
        "X1_train, Y1_train = X1[:valid_point], Y1[:valid_point]\n",
        "X1_valid, Y1_valid = X1[valid_point:test_point], Y1[valid_point:test_point]\n",
        "X1_test, Y1_test = X1[test_point:], Y1[test_point:]\n",
        "\n",
        "valid_point2 = int(0.7*len(X2))\n",
        "test_point2 = int(0.9*len(X2))\n",
        "X2_train, Y2_train = X2[:valid_point2], Y2[:valid_point2]\n",
        "X2_valid, Y2_valid = X2[valid_point2:test_point2], Y2[valid_point2:test_point2]\n",
        "X2_test, Y2_test = X2[test_point2:], Y2[test_point2:]\n",
        "\n",
        "X_train = np.concatenate((X1_train, X2_train),axis=0)\n",
        "X_valid = np.concatenate((X1_valid, X2_valid),axis=0)\n",
        "X_test = np.concatenate((X1_test, X2_test),axis=0)\n",
        "Y_train = np.concatenate((Y1_train, Y2_train),axis=0)\n",
        "Y_valid = np.concatenate((Y1_valid, Y2_valid),axis=0)\n",
        "Y_test = np.concatenate((Y1_test, Y2_test),axis=0)"
      ]
    },
    {
      "cell_type": "code",
      "execution_count": 11,
      "metadata": {
        "colab": {
          "base_uri": "https://localhost:8080/"
        },
        "id": "gPcM5a4a2RGX",
        "outputId": "f89942f9-d7e7-44b9-e36e-88dbb6a02243"
      },
      "outputs": [
        {
          "output_type": "stream",
          "name": "stdout",
          "text": [
            "(31767, 80, 71) (31767, 2)\n",
            "(9077, 80, 71) (9077, 2)\n",
            "(4539, 80, 71) (4539, 2)\n"
          ]
        }
      ],
      "source": [
        "print(X_train.shape, Y_train.shape)\n",
        "print(X_valid.shape, Y_valid.shape)\n",
        "print(X_test.shape, Y_test.shape)"
      ]
    },
    {
      "cell_type": "markdown",
      "metadata": {
        "id": "hA8U9tr7HrNQ"
      },
      "source": [
        "## Model definition\n",
        "Define a 1D CNN or an LSTM for the task. Compile the model with the correct loss function."
      ]
    },
    {
      "cell_type": "code",
      "execution_count": 12,
      "metadata": {
        "id": "BT1V1s4kHuUe"
      },
      "outputs": [],
      "source": [
        "model = Sequential()\n",
        "model.add(LSTM(128, input_shape=(X_train.shape[-2], X_train.shape[-1])))\n",
        "model.add(Dense(2, activation ='sigmoid'))\n",
        "# from tensorflow.keras.layers import Dense, Activation, Dropout, Flatten, Conv1D, MaxPooling1D, Reshape\n",
        "\n",
        "# nb_filter       = 32   # number of filter/kernels in the convolutional layers\n",
        "# filter_length   = 3  # length of the filter/kernel in the convolutional layers\n",
        "# window_size     = X_train.shape[1] # the window size defined by the dataset\n",
        "# nb_features     = X_train.shape[2] # the number of features of the input data\n",
        "# nb_outputs      = Y_train.shape[1] # the number of outputs (defined by the target data)\n",
        "\n",
        "# model = Sequential()\n",
        "# model.add(Conv1D(filters=nb_filter, kernel_size=filter_length, activation='relu', kernel_initializer='he_normal', input_shape=(window_size, nb_features)))\n",
        "# model.add(MaxPooling1D())\n",
        "# model.add(Dropout(0.3))\n",
        "# model.add(Conv1D(filters=nb_filter, kernel_size=filter_length, activation='relu', kernel_initializer='he_normal'))\n",
        "# model.add(MaxPooling1D())\n",
        "# model.add(Dropout(0.3))\n",
        "# model.add(Flatten())\n",
        "# model.add(Dense(128, activation='tanh'))\n",
        "# model.add(Dropout(0.3))\n",
        "# model.add(Dense(nb_outputs, activation='sigmoid'))"
      ]
    },
    {
      "cell_type": "markdown",
      "metadata": {
        "id": "hWFb-nAMHuAI"
      },
      "source": [
        "## Model training\n",
        "Train the model and apply early stopping."
      ]
    },
    {
      "cell_type": "code",
      "execution_count": 13,
      "metadata": {
        "id": "dvgKjqp3Hwkp"
      },
      "outputs": [],
      "source": [
        "model.compile(loss='binary_crossentropy', optimizer=\"adam\", metrics=['accuracy'])"
      ]
    },
    {
      "cell_type": "code",
      "execution_count": 14,
      "metadata": {
        "id": "9ZlJUBFX3Qml"
      },
      "outputs": [],
      "source": [
        "es = EarlyStopping(patience=5, restore_best_weights=True, monitor=\"val_loss\")"
      ]
    },
    {
      "cell_type": "code",
      "execution_count": 15,
      "metadata": {
        "colab": {
          "base_uri": "https://localhost:8080/"
        },
        "id": "EeD774sc3x0M",
        "outputId": "a67d0b9c-1954-4f75-cfd5-ec875d6c9ab9"
      },
      "outputs": [
        {
          "output_type": "stream",
          "name": "stdout",
          "text": [
            "Epoch 1/50\n",
            "497/497 [==============================] - 13s 12ms/step - loss: 0.5463 - accuracy: 0.7300 - val_loss: 0.5212 - val_accuracy: 0.7657\n",
            "Epoch 2/50\n",
            "497/497 [==============================] - 4s 8ms/step - loss: 0.4413 - accuracy: 0.8006 - val_loss: 0.4867 - val_accuracy: 0.7804\n",
            "Epoch 3/50\n",
            "497/497 [==============================] - 4s 8ms/step - loss: 0.4187 - accuracy: 0.8153 - val_loss: 0.5088 - val_accuracy: 0.7840\n",
            "Epoch 4/50\n",
            "497/497 [==============================] - 5s 9ms/step - loss: 0.3467 - accuracy: 0.8523 - val_loss: 0.4267 - val_accuracy: 0.8350\n",
            "Epoch 5/50\n",
            "497/497 [==============================] - 4s 8ms/step - loss: 0.2661 - accuracy: 0.8896 - val_loss: 0.4718 - val_accuracy: 0.8414\n",
            "Epoch 6/50\n",
            "497/497 [==============================] - 4s 8ms/step - loss: 0.2312 - accuracy: 0.9053 - val_loss: 0.4032 - val_accuracy: 0.8515\n",
            "Epoch 7/50\n",
            "497/497 [==============================] - 5s 9ms/step - loss: 0.1911 - accuracy: 0.9213 - val_loss: 0.4548 - val_accuracy: 0.8500\n",
            "Epoch 8/50\n",
            "497/497 [==============================] - 4s 8ms/step - loss: 0.1769 - accuracy: 0.9287 - val_loss: 0.5079 - val_accuracy: 0.8497\n",
            "Epoch 9/50\n",
            "497/497 [==============================] - 4s 8ms/step - loss: 0.1447 - accuracy: 0.9434 - val_loss: 0.6605 - val_accuracy: 0.8399\n",
            "Epoch 10/50\n",
            "497/497 [==============================] - 5s 9ms/step - loss: 0.1197 - accuracy: 0.9561 - val_loss: 0.4902 - val_accuracy: 0.8388\n",
            "Epoch 11/50\n",
            "497/497 [==============================] - 4s 8ms/step - loss: 0.1027 - accuracy: 0.9621 - val_loss: 0.4706 - val_accuracy: 0.8591\n"
          ]
        },
        {
          "output_type": "execute_result",
          "data": {
            "text/plain": [
              "<keras.callbacks.History at 0x7fdd3426ce20>"
            ]
          },
          "metadata": {},
          "execution_count": 15
        }
      ],
      "source": [
        "model.fit(X_train, Y_train, \n",
        "          validation_data=(X_valid,Y_valid),\n",
        "          batch_size=64,                             \n",
        "          epochs=50, \n",
        "          verbose=1, \n",
        "          callbacks=[es])"
      ]
    },
    {
      "cell_type": "markdown",
      "metadata": {
        "id": "0omw2XzSHwOo"
      },
      "source": [
        "## Evaluation on test data\n",
        "Evaluate the model on the test data in terms of loss and accuracy."
      ]
    },
    {
      "cell_type": "code",
      "execution_count": 18,
      "metadata": {
        "colab": {
          "base_uri": "https://localhost:8080/"
        },
        "id": "q125cUgyr7lJ",
        "outputId": "368cea8d-828f-49ab-888a-2245d0716eca"
      },
      "outputs": [
        {
          "output_type": "stream",
          "name": "stdout",
          "text": [
            "142/142 [==============================] - 1s 6ms/step - loss: 1.4070 - accuracy: 0.6122\n",
            "Test loss: 1.4070411920547485\n",
            "Test accuracy: 0.6122493743896484\n"
          ]
        }
      ],
      "source": [
        "eval = model.evaluate(X_test,Y_test)\n",
        "print(\"Test loss:\",eval[0])\n",
        "print(\"Test accuracy:\",eval[1])"
      ]
    },
    {
      "cell_type": "markdown",
      "metadata": {
        "id": "4Y73Q-h5Hz1r"
      },
      "source": [
        "## Confusion matrix\n",
        "Calculate and display the confusion matrix."
      ]
    },
    {
      "cell_type": "code",
      "execution_count": 19,
      "metadata": {
        "colab": {
          "base_uri": "https://localhost:8080/",
          "height": 466
        },
        "id": "cW8zZi1uJm2B",
        "outputId": "7dbca043-d389-4078-fd8b-944e778c69ed"
      },
      "outputs": [
        {
          "output_type": "stream",
          "name": "stdout",
          "text": [
            "142/142 [==============================] - 0s 3ms/step\n"
          ]
        },
        {
          "output_type": "execute_result",
          "data": {
            "text/plain": [
              "<Axes: >"
            ]
          },
          "metadata": {},
          "execution_count": 19
        },
        {
          "output_type": "display_data",
          "data": {
            "text/plain": [
              "<Figure size 640x480 with 2 Axes>"
            ],
            "image/png": "[encoded data removed]"
          },
          "metadata": {}
        }
      ],
      "source": [
        "preds = model.predict(X_test)\n",
        "conf=confusion_matrix(np.argmax(Y_test,1),np.argmax(preds,1))\n",
        "sns.heatmap(conf, annot=True, fmt='d', vmax=100)"
      ]
    }
  ],
  "metadata": {
    "colab": {
      "provenance": [],
      "include_colab_link": true
    },
    "kernelspec": {
      "display_name": "Python 3",
      "language": "python",
      "name": "python3"
    },
    "language_info": {
      "codemirror_mode": {
        "name": "ipython",
        "version": 3
      },
      "file_extension": ".py",
      "mimetype": "text/x-python",
      "name": "python",
      "nbconvert_exporter": "python",
      "pygments_lexer": "ipython3",
      "version": "3.6.6"
    },
    "accelerator": "GPU",
    "gpuClass": "standard"
  },
  "nbformat": 4,
  "nbformat_minor": 0
}