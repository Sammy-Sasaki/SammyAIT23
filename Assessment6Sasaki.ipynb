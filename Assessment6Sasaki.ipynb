{
  "cells": [
    {
      "cell_type": "markdown",
      "metadata": {
        "id": "view-in-github",
        "colab_type": "text"
      },
      "source": [
        "<a href=\"https://colab.research.google.com/github/Sammy-Sasaki/SammyAIT23/blob/main/Assessment6Sasaki.ipynb\" target=\"_parent\"><img src=\"https://colab.research.google.com/assets/colab-badge.svg\" alt=\"Open In Colab\"/></a>"
      ]
    },
    {
      "cell_type": "markdown",
      "metadata": {
        "id": "_jiGtJu6u9ml"
      },
      "source": [
        "# Copyright\n",
        "\n",
        "<PRE>\n",
        "Copyright (c) 2023 Bálint Gyires-Tóth - All Rights Reserved\n",
        "You may use and modify this code for research and development purpuses.\n",
        "Use this code for educational purposes (self-paced or instructor led) without the permission of the author is prohibited.\n",
        "</PRE>"
      ]
    },
    {
      "cell_type": "markdown",
      "metadata": {
        "id": "oXyFC44jV-PP"
      },
      "source": [
        "# Author classification\n",
        "The task is to train a 1D CNN or an LSTM that is able to  classify text from two authors. The final model should be able to tell about a text with a given length (e.g. 60 characters) who wrote it. \n",
        "\n",
        "Please write the codes according to the following parts:"
      ]
    },
    {
      "cell_type": "markdown",
      "metadata": {
        "id": "jCnLoeGrHXsp"
      },
      "source": [
        "## Python module imports\n",
        "Import all Python modules that you would need during the Assignment."
      ]
    },
    {
      "cell_type": "code",
      "execution_count": 1,
      "metadata": {
        "id": "7itbFGt3HXVT"
      },
      "outputs": [],
      "source": [
        "from tensorflow.keras.models import Sequential\n",
        "from tensorflow.keras.layers import Dense, Activation, Dropout\n",
        "from tensorflow.keras.layers import LSTM\n",
        "from tensorflow.keras.optimizers import RMSprop\n",
        "from tensorflow.keras.callbacks import EarlyStopping\n",
        "from urllib.request import urlretrieve\n",
        "import numpy as np\n",
        "import random\n",
        "import sys\n",
        "import re, cgi\n",
        "import seaborn as sns\n",
        "import matplotlib.pyplot as plt\n",
        "from sklearn.metrics import confusion_matrix"
      ]
    },
    {
      "cell_type": "markdown",
      "metadata": {
        "id": "Hr617tEpHd8R"
      },
      "source": [
        "## Data acquisition\n",
        "Seek a possible dataset, you can use any source, e.g.\n",
        "* http://www.gutenberg.org/\n",
        "* https://www.kaggle.com/datasets\n",
        "* https://paperswithcode.com/datasets\n",
        "* if you would like to learn Hungarian, than e.g. https://mek.oszk.hu/\n",
        "\n",
        "You can download the text by hand (e.g. by copy-pasting some parts into txt files) or with Python. "
      ]
    },
    {
      "cell_type": "code",
      "execution_count": 2,
      "metadata": {
        "id": "NgkdQxHqHdZB"
      },
      "outputs": [],
      "source": [
        "# Great Gatsby\n",
        "url_book=\"https://www.gutenberg.org/files/64317/64317-0.txt\"\n",
        "# url_book=\"https://www.gutenberg.org/cache/epub/1342/pg1342.txt\"\n",
        "urlretrieve(url_book, 'book.txt')\n",
        "text = open(\"book.txt\", encoding='utf-8').read().lower()\n",
        "\n",
        "# Moby Dick\n",
        "url_book2=\"https://www.gutenberg.org/files/84/84-0.txt\"\n",
        "# url_book2=\"https://www.gutenberg.org/cache/epub/37106/pg37106.txt\"\n",
        "urlretrieve(url_book2, 'book2.txt')\n",
        "text2 = open(\"book2.txt\", encoding='utf-8').read().lower()"
      ]
    },
    {
      "cell_type": "markdown",
      "metadata": {
        "id": "U9Pmq91t3SRD"
      },
      "source": [
        "## Data analysis\n",
        "Count the number of characters from both authors and display them on a plot (e.g. Seaborn's countplot)."
      ]
    },
    {
      "cell_type": "code",
      "execution_count": 3,
      "metadata": {
        "colab": {
          "base_uri": "https://localhost:8080/",
          "height": 540
        },
        "id": "uRqGdn4F3Spk",
        "outputId": "75857cec-629c-4220-b4d2-a2045452913a"
      },
      "outputs": [
        {
          "output_type": "display_data",
          "data": {
            "text/plain": [
              "<Figure size 640x480 with 1 Axes>"
            ],
            "image/png": "[encoded data removed]"
          },
          "metadata": {}
        }
      ],
      "source": [
        "count1 = len(text)\n",
        "count2 = len(text2)\n",
        "fig = plt.figure()\n",
        "ax = fig.add_axes([0,0,1,1])\n",
        "authors = [\"Fitzgerald\", \"Melville\"]\n",
        "counts = [count1, count2]\n",
        "ax.bar(authors,counts)\n",
        "plt.show()"
      ]
    },
    {
      "cell_type": "markdown",
      "metadata": {
        "id": "cHyE_ndGIblJ"
      },
      "source": [
        "## Data loading, labeling and preprocessing\n",
        "Load the data and convert the characters into one-hot encodings. Then load the data into a 3D NumPy array, with a shape of\n",
        "\n",
        "* (batch, sequence_length, alphabet_length)\n",
        "\n",
        "where sequence_length=60, and alphabet_length equals to the number of unique characters in both datasets. The sequences should be cut out from the complete dataset by sliding window. You should add 0 and 1 labels to the sequences, according to the author. \n",
        "\n",
        "Later you may change sequence_length to achieve better results!"
      ]
    },
    {
      "cell_type": "code",
      "execution_count": 4,
      "metadata": {
        "id": "arooXt0WIb6x"
      },
      "outputs": [],
      "source": [
        "sequence_length = 80\n",
        "step = 10\n",
        "chars = sorted(list(set(text + text2)))\n",
        "alphabet_length = len(chars)\n",
        "char_indices = dict((c, i) for i, c in enumerate(chars))\n",
        "indices_char = dict((i, c) for i, c in enumerate(chars))"
      ]
    },
    {
      "cell_type": "code",
      "execution_count": 5,
      "metadata": {
        "id": "iBIW1eSyXLJR"
      },
      "outputs": [],
      "source": [
        "sequences1 = []\n",
        "sequences2 = []\n",
        "for i in range(0, len(text)-sequence_length, step):\n",
        "    sequences1.append(text[i:i + sequence_length])\n",
        "for i in range(0, len(text2) - sequence_length, step):\n",
        "    sequences2.append(text2[i:i + sequence_length])"
      ]
    },
    {
      "cell_type": "code",
      "execution_count": 6,
      "metadata": {
        "colab": {
          "base_uri": "https://localhost:8080/"
        },
        "id": "wBe_kV3uWquO",
        "outputId": "f48d97b5-4819-4ce5-d76b-e123940485a0"
      },
      "outputs": [
        {
          "output_type": "stream",
          "name": "stdout",
          "text": [
            "28986\n"
          ]
        }
      ],
      "source": [
        "print(len(sequences1))"
      ]
    },
    {
      "cell_type": "code",
      "execution_count": 7,
      "metadata": {
        "id": "tslAWNv9YkUO"
      },
      "outputs": [],
      "source": [
        "X1 = np.zeros((len(sequences1), sequence_length, alphabet_length))\n",
        "Y1 = np.zeros((len(sequences1), 2))\n",
        "X2 = np.zeros((len(sequences2), sequence_length, alphabet_length))\n",
        "Y2 = np.zeros((len(sequences2), 2))"
      ]
    },
    {
      "cell_type": "code",
      "execution_count": 8,
      "metadata": {
        "colab": {
          "base_uri": "https://localhost:8080/"
        },
        "id": "u-S77MVa2mhl",
        "outputId": "cf5c79ff-957b-4633-88fc-be28819f3c42"
      },
      "outputs": [
        {
          "output_type": "stream",
          "name": "stdout",
          "text": [
            "(28986, 80, 72) (43863, 80, 72)\n"
          ]
        }
      ],
      "source": [
        "print(X1.shape, X2.shape)"
      ]
    },
    {
      "cell_type": "code",
      "execution_count": 9,
      "metadata": {
        "id": "tMuryn69v9wD"
      },
      "outputs": [],
      "source": [
        "for i, sequence in enumerate(sequences1):\n",
        "    for t, char in enumerate(sequence): \n",
        "        X1[i,t,char_indices[char]] = 1\n",
        "    Y1[i][0] = 1\n",
        "\n",
        "for i, sequence in enumerate(sequences2):\n",
        "    for t, char in enumerate(sequence): \n",
        "        X2[i,t,char_indices[char]] = 1\n",
        "    Y2[i][1] = 1"
      ]
    },
    {
      "cell_type": "markdown",
      "metadata": {
        "id": "lL1Mc8ibHnep"
      },
      "source": [
        "## Data splitting\n",
        "Split the data into train, validate and test sets. Make "
      ]
    },
    {
      "cell_type": "code",
      "execution_count": 10,
      "metadata": {
        "id": "ELyG9XFUHrkB"
      },
      "outputs": [],
      "source": [
        "valid_point = int(0.7*len(X1))\n",
        "test_point = int(0.9*len(X1))\n",
        "X1_train, Y1_train = X1[:valid_point], Y1[:valid_point]\n",
        "X1_valid, Y1_valid = X1[valid_point:test_point], Y1[valid_point:test_point]\n",
        "X1_test, Y1_test = X1[test_point:], Y1[test_point:]\n",
        "\n",
        "valid_point2 = int(0.7*len(X2))\n",
        "test_point2 = int(0.9*len(X2))\n",
        "X2_train, Y2_train = X2[:valid_point2], Y2[:valid_point2]\n",
        "X2_valid, Y2_valid = X2[valid_point2:test_point2], Y2[valid_point2:test_point2]\n",
        "X2_test, Y2_test = X2[test_point2:], Y2[test_point2:]\n",
        "\n",
        "X_train = np.concatenate((X1_train, X2_train),axis=0)\n",
        "X_valid = np.concatenate((X1_valid, X2_valid),axis=0)\n",
        "X_test = np.concatenate((X1_test, X2_test),axis=0)\n",
        "Y_train = np.concatenate((Y1_train, Y2_train),axis=0)\n",
        "Y_valid = np.concatenate((Y1_valid, Y2_valid),axis=0)\n",
        "Y_test = np.concatenate((Y1_test, Y2_test),axis=0)"
      ]
    },
    {
      "cell_type": "code",
      "execution_count": 11,
      "metadata": {
        "colab": {
          "base_uri": "https://localhost:8080/"
        },
        "id": "gPcM5a4a2RGX",
        "outputId": "9dd42a35-b5e1-4140-9777-4a221b822ae4"
      },
      "outputs": [
        {
          "output_type": "stream",
          "name": "stdout",
          "text": [
            "(50994, 80, 72) (50994, 2)\n",
            "(14569, 80, 72) (14569, 2)\n",
            "(7286, 80, 72) (7286, 2)\n"
          ]
        }
      ],
      "source": [
        "print(X_train.shape, Y_train.shape)\n",
        "print(X_valid.shape, Y_valid.shape)\n",
        "print(X_test.shape, Y_test.shape)"
      ]
    },
    {
      "cell_type": "markdown",
      "metadata": {
        "id": "hA8U9tr7HrNQ"
      },
      "source": [
        "## Model definition\n",
        "Define a 1D CNN or an LSTM for the task. Compile the model with the correct loss function."
      ]
    },
    {
      "cell_type": "code",
      "execution_count": 12,
      "metadata": {
        "id": "BT1V1s4kHuUe"
      },
      "outputs": [],
      "source": [
        "model = Sequential()\n",
        "model.add(LSTM(128, input_shape=(X_train.shape[-2], X_train.shape[-1])))\n",
        "model.add(Dense(2))\n",
        "model.add(Activation(\"sigmoid\"))"
      ]
    },
    {
      "cell_type": "markdown",
      "metadata": {
        "id": "hWFb-nAMHuAI"
      },
      "source": [
        "## Model training\n",
        "Train the model and apply early stopping."
      ]
    },
    {
      "cell_type": "code",
      "execution_count": 13,
      "metadata": {
        "id": "dvgKjqp3Hwkp"
      },
      "outputs": [],
      "source": [
        "model.compile(loss='binary_crossentropy', optimizer=\"adam\", metrics=['accuracy'])"
      ]
    },
    {
      "cell_type": "code",
      "execution_count": 14,
      "metadata": {
        "id": "9ZlJUBFX3Qml"
      },
      "outputs": [],
      "source": [
        "es = EarlyStopping(patience=5, restore_best_weights=True, monitor=\"val_loss\")"
      ]
    },
    {
      "cell_type": "code",
      "execution_count": 15,
      "metadata": {
        "colab": {
          "base_uri": "https://localhost:8080/"
        },
        "id": "EeD774sc3x0M",
        "outputId": "1adf01f5-c00b-4ad6-9691-1b839c7a8efa"
      },
      "outputs": [
        {
          "output_type": "stream",
          "name": "stdout",
          "text": [
            "Epoch 1/50\n",
            "399/399 [==============================] - 13s 13ms/step - loss: 0.5222 - accuracy: 0.7386 - val_loss: 0.4469 - val_accuracy: 0.7950\n",
            "Epoch 2/50\n",
            "399/399 [==============================] - 4s 10ms/step - loss: 0.4479 - accuracy: 0.7954 - val_loss: 0.4770 - val_accuracy: 0.7846\n",
            "Epoch 3/50\n",
            "399/399 [==============================] - 4s 10ms/step - loss: 0.4331 - accuracy: 0.8023 - val_loss: 0.4231 - val_accuracy: 0.8066\n",
            "Epoch 4/50\n",
            "399/399 [==============================] - 4s 10ms/step - loss: 0.3780 - accuracy: 0.8307 - val_loss: 0.3862 - val_accuracy: 0.8362\n",
            "Epoch 5/50\n",
            "399/399 [==============================] - 4s 9ms/step - loss: 0.3351 - accuracy: 0.8539 - val_loss: 0.3383 - val_accuracy: 0.8447\n",
            "Epoch 6/50\n",
            "399/399 [==============================] - 4s 10ms/step - loss: 0.2963 - accuracy: 0.8736 - val_loss: 0.3472 - val_accuracy: 0.8456\n",
            "Epoch 7/50\n",
            "399/399 [==============================] - 4s 9ms/step - loss: 0.2610 - accuracy: 0.8886 - val_loss: 0.3469 - val_accuracy: 0.8584\n",
            "Epoch 8/50\n",
            "399/399 [==============================] - 4s 9ms/step - loss: 0.2309 - accuracy: 0.9029 - val_loss: 0.3475 - val_accuracy: 0.8546\n",
            "Epoch 9/50\n",
            "399/399 [==============================] - 4s 11ms/step - loss: 0.1997 - accuracy: 0.9179 - val_loss: 0.3322 - val_accuracy: 0.8592\n",
            "Epoch 10/50\n",
            "399/399 [==============================] - 4s 10ms/step - loss: 0.1602 - accuracy: 0.9353 - val_loss: 0.3678 - val_accuracy: 0.8567\n",
            "Epoch 11/50\n",
            "399/399 [==============================] - 4s 10ms/step - loss: 0.1306 - accuracy: 0.9490 - val_loss: 0.4062 - val_accuracy: 0.8528\n",
            "Epoch 12/50\n",
            "399/399 [==============================] - 4s 10ms/step - loss: 0.1075 - accuracy: 0.9591 - val_loss: 0.4573 - val_accuracy: 0.8570\n",
            "Epoch 13/50\n",
            "399/399 [==============================] - 5s 11ms/step - loss: 0.0890 - accuracy: 0.9670 - val_loss: 0.4705 - val_accuracy: 0.8481\n",
            "Epoch 14/50\n",
            "399/399 [==============================] - 4s 10ms/step - loss: 0.0711 - accuracy: 0.9738 - val_loss: 0.4638 - val_accuracy: 0.8571\n"
          ]
        },
        {
          "output_type": "execute_result",
          "data": {
            "text/plain": [
              "<keras.callbacks.History at 0x7ff48c032e50>"
            ]
          },
          "metadata": {},
          "execution_count": 15
        }
      ],
      "source": [
        "model.fit(X_train, Y_train, \n",
        "          validation_data=(X_valid,Y_valid),\n",
        "          batch_size=128,                             \n",
        "          epochs=50, \n",
        "          verbose=1, \n",
        "          callbacks=[es])"
      ]
    },
    {
      "cell_type": "markdown",
      "metadata": {
        "id": "0omw2XzSHwOo"
      },
      "source": [
        "## Evaluation on test data\n",
        "Evaluate the model on the test data in terms of loss and accuracy."
      ]
    },
    {
      "cell_type": "code",
      "execution_count": 16,
      "metadata": {
        "colab": {
          "base_uri": "https://localhost:8080/"
        },
        "id": "q125cUgyr7lJ",
        "outputId": "8c7535fd-c658-46db-8c0c-df15dda01abf"
      },
      "outputs": [
        {
          "output_type": "stream",
          "name": "stdout",
          "text": [
            "228/228 [==============================] - 1s 4ms/step - loss: 0.8760 - accuracy: 0.6806\n",
            "Test loss: 0.875995934009552\n",
            "Test accuracy: 0.6806203722953796\n"
          ]
        }
      ],
      "source": [
        "eval = model.evaluate(X_test,Y_test)\n",
        "print(\"Test loss:\",eval[0])\n",
        "print(\"Test accuracy:\",eval[1])"
      ]
    },
    {
      "cell_type": "markdown",
      "metadata": {
        "id": "4Y73Q-h5Hz1r"
      },
      "source": [
        "## Confusion matrix\n",
        "Calculate and display the confusion matrix."
      ]
    },
    {
      "cell_type": "code",
      "execution_count": 17,
      "metadata": {
        "colab": {
          "base_uri": "https://localhost:8080/",
          "height": 466
        },
        "id": "cW8zZi1uJm2B",
        "outputId": "46197563-7b5f-44dc-e761-705373583085"
      },
      "outputs": [
        {
          "output_type": "stream",
          "name": "stdout",
          "text": [
            "228/228 [==============================] - 1s 3ms/step\n"
          ]
        },
        {
          "output_type": "execute_result",
          "data": {
            "text/plain": [
              "<Axes: >"
            ]
          },
          "metadata": {},
          "execution_count": 17
        },
        {
          "output_type": "display_data",
          "data": {
            "text/plain": [
              "<Figure size 640x480 with 2 Axes>"
            ],
            "image/png": "[encoded data removed]"
          },
          "metadata": {}
        }
      ],
      "source": [
        "preds = model.predict(X_test)\n",
        "conf=confusion_matrix(np.argmax(Y_test,1),np.argmax(preds,1))\n",
        "sns.heatmap(conf, annot=True, fmt='d', vmax=100)"
      ]
    }
  ],
  "metadata": {
    "colab": {
      "provenance": [],
      "include_colab_link": true
    },
    "kernelspec": {
      "display_name": "Python 3",
      "language": "python",
      "name": "python3"
    },
    "language_info": {
      "codemirror_mode": {
        "name": "ipython",
        "version": 3
      },
      "file_extension": ".py",
      "mimetype": "text/x-python",
      "name": "python",
      "nbconvert_exporter": "python",
      "pygments_lexer": "ipython3",
      "version": "3.6.6"
    },
    "accelerator": "GPU",
    "gpuClass": "standard"
  },
  "nbformat": 4,
  "nbformat_minor": 0
}